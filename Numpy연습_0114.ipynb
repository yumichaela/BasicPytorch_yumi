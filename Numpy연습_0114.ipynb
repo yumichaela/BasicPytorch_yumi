{
  "nbformat": 4,
  "nbformat_minor": 0,
  "metadata": {
    "colab": {
      "provenance": [],
      "authorship_tag": "ABX9TyMGLhw19WU94RVXJwIciiMQ",
      "include_colab_link": true
    },
    "kernelspec": {
      "name": "python3",
      "display_name": "Python 3"
    },
    "language_info": {
      "name": "python"
    }
  },
  "cells": [
    {
      "cell_type": "markdown",
      "metadata": {
        "id": "view-in-github",
        "colab_type": "text"
      },
      "source": [
        "<a href=\"https://colab.research.google.com/github/yumichaela/Study_BasicPytorch/blob/main/Numpy%EC%97%B0%EC%8A%B5_0114.ipynb\" target=\"_parent\"><img src=\"https://colab.research.google.com/assets/colab-badge.svg\" alt=\"Open In Colab\"/></a>"
      ]
    },
    {
      "cell_type": "code",
      "source": [
        "import numpy as np\n",
        "a = np.array([1, 5, 0, -1])\n",
        "b = np.ones((2, 2, 2))\n",
        "c = np.zeros((2, 3))\n",
        "d = np.arange(10)\n",
        "e = np.linspace(0, 10, 5)\n",
        "f = np.random.randint(2, 10, 5)\n",
        "\n",
        "print(\"a:\", a)\n",
        "print(\"b:\", b)\n",
        "print(\"c:\", c)\n",
        "print(\"d:\", d)\n",
        "print(\"e:\", e)\n",
        "print(\"f:\", f)\n",
        "\n"
      ],
      "metadata": {
        "colab": {
          "base_uri": "https://localhost:8080/"
        },
        "id": "oXf6c1iqho5Y",
        "outputId": "7633f5e3-c963-4082-94db-d0b9664f7293"
      },
      "execution_count": 34,
      "outputs": [
        {
          "output_type": "stream",
          "name": "stdout",
          "text": [
            "a: [ 1  5  0 -1]\n",
            "b: [[[1. 1.]\n",
            "  [1. 1.]]\n",
            "\n",
            " [[1. 1.]\n",
            "  [1. 1.]]]\n",
            "c: [[0. 0. 0.]\n",
            " [0. 0. 0.]]\n",
            "d: [0 1 2 3 4 5 6 7 8 9]\n",
            "e: [ 0.   2.5  5.   7.5 10. ]\n",
            "f: [8 3 4 7 8]\n"
          ]
        }
      ]
    },
    {
      "cell_type": "code",
      "source": [
        "c.dtype"
      ],
      "metadata": {
        "colab": {
          "base_uri": "https://localhost:8080/"
        },
        "id": "9IA4eaxah-Em",
        "outputId": "01755c79-9002-4571-8550-dd1a408c3c1a"
      },
      "execution_count": 32,
      "outputs": [
        {
          "output_type": "execute_result",
          "data": {
            "text/plain": [
              "dtype('float64')"
            ]
          },
          "metadata": {},
          "execution_count": 32
        }
      ]
    },
    {
      "cell_type": "code",
      "source": [],
      "metadata": {
        "id": "xnCk5X9uiK9S"
      },
      "execution_count": null,
      "outputs": []
    }
  ]
}