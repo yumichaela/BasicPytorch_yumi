{
  "cells": [
    {
      "cell_type": "markdown",
      "metadata": {
        "id": "view-in-github",
        "colab_type": "text"
      },
      "source": [
        "<a href=\"https://colab.research.google.com/github/Yoomichaella/Study/blob/main/Chapter1_LienarRegression.ipynb\" target=\"_parent\"><img src=\"https://colab.research.google.com/assets/colab-badge.svg\" alt=\"Open In Colab\"/></a>"
      ]
    },
    {
      "cell_type": "code",
      "source": [
        "import numpy as np"
      ],
      "metadata": {
        "id": "XOlmvqTXQqxm"
      },
      "execution_count": 1,
      "outputs": []
    },
    {
      "cell_type": "code",
      "source": [
        "# 랜덤한 값을 만들어보자.\n",
        "#np.random.seed(0) # 0번 째 값으로 고정\n",
        "np.random.normal(0.0, 0.5) # 첫번째 : 평균, 두번째 : 표준편차"
      ],
      "metadata": {
        "id": "_wWch754Tyxw",
        "outputId": "d846c5a2-fa71-4142-b09c-2b62f22641ae",
        "colab": {
          "base_uri": "https://localhost:8080/"
        }
      },
      "execution_count": 2,
      "outputs": [
        {
          "output_type": "execute_result",
          "data": {
            "text/plain": [
              "-0.33514590030214103"
            ]
          },
          "metadata": {},
          "execution_count": 2
        }
      ]
    },
    {
      "cell_type": "code",
      "source": [
        "npoints = 10\n",
        "points = list()\n",
        "# 직선을 만들어보자. 기울기 0.2, y절편 0.5\n",
        "for i in range(npoints):\n",
        "  np.random.seed(i)\n",
        "  x = np.random.normal(0.0, 0.5)\n",
        "  y = 0.2 * x + 0.5\n",
        "  points.append([x, y])\n",
        "print(points)"
      ],
      "metadata": {
        "id": "9amQeuEcUErQ",
        "outputId": "080c2aab-415a-48ba-d447-f955a1e313d9",
        "colab": {
          "base_uri": "https://localhost:8080/"
        }
      },
      "execution_count": 3,
      "outputs": [
        {
          "output_type": "stream",
          "name": "stdout",
          "text": [
            "[[0.882026172983832, 0.6764052345967664], [0.8121726818316208, 0.6624345363663242], [-0.2083789237027353, 0.45832421525945294], [0.8943142367151593, 0.6788628473430318], [0.025280853571469777, 0.505056170714294], [0.22061374344252072, 0.5441227486885042], [-0.1558918367437583, 0.4688216326512483], [0.845262851900178, 0.6690525703800356], [0.045602358309909885, 0.5091204716619819], [0.0005542773561054866, 0.5001108554712211]]\n"
          ]
        }
      ]
    },
    {
      "cell_type": "code",
      "source": [
        "import matplotlib.pyplot as plt"
      ],
      "metadata": {
        "id": "V6xm3APJWaMV"
      },
      "execution_count": 4,
      "outputs": []
    },
    {
      "cell_type": "code",
      "source": [
        "plt.figure(1)\n",
        "for point in points:\n",
        "  plt.scatter(point[0], point[1], c='b')\n",
        "plt.grid()"
      ],
      "metadata": {
        "id": "oOuGv3nWZUJn",
        "outputId": "3e3fd720-0b1e-41b1-eda5-571a9aff2c6e",
        "colab": {
          "base_uri": "https://localhost:8080/",
          "height": 265
        }
      },
      "execution_count": 5,
      "outputs": [
        {
          "output_type": "display_data",
          "data": {
            "text/plain": [
              "<Figure size 432x288 with 1 Axes>"
            ],
            "image/png": "[encoded data removed]"
          },
          "metadata": {
            "needs_background": "light"
          }
        }
      ]
    },
    {
      "cell_type": "code",
      "source": [
        "npoints = 100\n",
        "points = list()\n",
        "# 잔차가 있는 데이터를 만들어보자. 기울기 0.2, y절편 0.5\n",
        "for i in range(npoints):\n",
        "  np.random.seed(i)\n",
        "  x = np.random.normal(0.0, 0.5)\n",
        "  r = np.random.normal(0.0, 0.05)\n",
        "  y = 0.2 * x + 0.5 + r\n",
        "  points.append([x, y])"
      ],
      "metadata": {
        "id": "__moLh_daKcs"
      },
      "execution_count": 6,
      "outputs": []
    },
    {
      "cell_type": "code",
      "source": [
        "plt.figure(1)\n",
        "for point in points:\n",
        "  plt.scatter(point[0], point[1], c='b')\n",
        "plt.grid()"
      ],
      "metadata": {
        "id": "Ld9CjNcdbG1h",
        "outputId": "40680e79-231d-4e78-8dee-6deecb23c843",
        "colab": {
          "base_uri": "https://localhost:8080/",
          "height": 265
        }
      },
      "execution_count": 7,
      "outputs": [
        {
          "output_type": "display_data",
          "data": {
            "text/plain": [
              "<Figure size 432x288 with 1 Axes>"
            ],
            "image/png": "[encoded data removed]"
          },
          "metadata": {
            "needs_background": "light"
          }
        }
      ]
    },
    {
      "cell_type": "code",
      "source": [
        "import torch"
      ],
      "metadata": {
        "id": "vR37PaMGbJgq"
      },
      "execution_count": 8,
      "outputs": []
    },
    {
      "cell_type": "code",
      "source": [
        "dataset = torch.FloatTensor(points) # FloatTensor : 실수형의 tensor(배열)"
      ],
      "metadata": {
        "id": "ImBS9_V8b2O4"
      },
      "execution_count": 9,
      "outputs": []
    },
    {
      "cell_type": "code",
      "source": [
        "print(dataset.size())"
      ],
      "metadata": {
        "id": "pbLs46H4dEhf",
        "outputId": "035085c4-08ee-466d-99d4-087c27409aa8",
        "colab": {
          "base_uri": "https://localhost:8080/"
        }
      },
      "execution_count": 10,
      "outputs": [
        {
          "output_type": "stream",
          "name": "stdout",
          "text": [
            "torch.Size([100, 2])\n"
          ]
        }
      ]
    },
    {
      "cell_type": "code",
      "source": [
        "x = dataset[:, 0] # :은 All이란 뜻, 0번째만 모아서 ,x만 있다.\n",
        "y = dataset[:, 1] # y만 있다."
      ],
      "metadata": {
        "id": "kXJp0KxEdkKj"
      },
      "execution_count": 11,
      "outputs": []
    },
    {
      "cell_type": "code",
      "source": [
        "print(x.size())"
      ],
      "metadata": {
        "id": "m2WAcD0GfeCZ",
        "outputId": "73b9c009-f3d5-4e08-8570-cbb2c90a6ff3",
        "colab": {
          "base_uri": "https://localhost:8080/"
        }
      },
      "execution_count": 12,
      "outputs": [
        {
          "output_type": "stream",
          "name": "stdout",
          "text": [
            "torch.Size([100])\n"
          ]
        }
      ]
    },
    {
      "cell_type": "code",
      "source": [
        "x = x.unsqueeze(1)\n",
        "print(x.size())"
      ],
      "metadata": {
        "id": "bzBj_pLLfeNr",
        "outputId": "91952b7b-8da7-4454-d180-d401af250ff5",
        "colab": {
          "base_uri": "https://localhost:8080/"
        }
      },
      "execution_count": 13,
      "outputs": [
        {
          "output_type": "stream",
          "name": "stdout",
          "text": [
            "torch.Size([100, 1])\n"
          ]
        }
      ]
    },
    {
      "cell_type": "code",
      "source": [
        "y = y.unsqueeze(1)\n",
        "print(y.size())"
      ],
      "metadata": {
        "id": "4veI1fycfeas",
        "outputId": "14dd2b9a-7096-4587-8ef3-9d400347c2e5",
        "colab": {
          "base_uri": "https://localhost:8080/"
        }
      },
      "execution_count": 14,
      "outputs": [
        {
          "output_type": "stream",
          "name": "stdout",
          "text": [
            "torch.Size([100, 1])\n"
          ]
        }
      ]
    },
    {
      "cell_type": "code",
      "source": [
        "# 기울기를 설정해보자.\n",
        "a = torch.randn(1, requires_grad=True) #requires_grad : a값을 변화시킬 것이다.\n",
        "print(a)"
      ],
      "metadata": {
        "id": "wwFOnNbXeQmg",
        "outputId": "c45abd6f-5f88-455a-b486-5a86a2a613d3",
        "colab": {
          "base_uri": "https://localhost:8080/"
        }
      },
      "execution_count": 15,
      "outputs": [
        {
          "output_type": "stream",
          "name": "stdout",
          "text": [
            "tensor([0.0418], requires_grad=True)\n"
          ]
        }
      ]
    },
    {
      "cell_type": "code",
      "source": [
        "# 편차(bias)를 설정해보자.\n",
        "b = torch.zeros(1, requires_grad = True)\n",
        "print(b)"
      ],
      "metadata": {
        "id": "Df-72H1ielGA",
        "outputId": "3c7d11ad-e149-4378-d2c6-ad5c2a88e70a",
        "colab": {
          "base_uri": "https://localhost:8080/"
        }
      },
      "execution_count": 16,
      "outputs": [
        {
          "output_type": "stream",
          "name": "stdout",
          "text": [
            "tensor([0.], requires_grad=True)\n"
          ]
        }
      ]
    },
    {
      "cell_type": "code",
      "source": [
        "# 예측을 해보자\n",
        "y_pred = a * x + b\n",
        "print(y_pred)"
      ],
      "metadata": {
        "id": "0KT5pLBlelK7"
      },
      "execution_count": null,
      "outputs": []
    },
    {
      "cell_type": "code",
      "source": [
        "# 오차를 구해보자 / mean squared error(오차의 제곱을, 더해서, 평균)\n",
        "error = torch.mean((y - y_pred) ** 2)"
      ],
      "metadata": {
        "id": "gTvUY6pBfbXK"
      },
      "execution_count": 18,
      "outputs": []
    },
    {
      "cell_type": "code",
      "source": [
        "print(error)"
      ],
      "metadata": {
        "id": "RwTEIeELelPN",
        "outputId": "8999f468-dc06-4999-fd52-c423d8710058",
        "colab": {
          "base_uri": "https://localhost:8080/"
        }
      },
      "execution_count": 19,
      "outputs": [
        {
          "output_type": "stream",
          "name": "stdout",
          "text": [
            "tensor(0.2609, grad_fn=<MeanBackward0>)\n"
          ]
        }
      ]
    },
    {
      "cell_type": "code",
      "source": [
        "# 기울기와 편차를 업데이트해주자\n",
        "optimizer = torch.optim.SGD([a, b], lr = 0.01)"
      ],
      "metadata": {
        "id": "uEpOvoRxelTx"
      },
      "execution_count": 20,
      "outputs": []
    },
    {
      "cell_type": "code",
      "source": [
        "optimizer.zero_grad() # gradient(순간변화율) 초기화\n",
        "error.backward() # gradient 계산\n",
        "optimizer.step()"
      ],
      "metadata": {
        "id": "YaVA1M5tg4Qm"
      },
      "execution_count": 21,
      "outputs": []
    },
    {
      "cell_type": "code",
      "source": [
        "for i in range(10):\n",
        "  y_pred = a * x + b\n",
        "  error = torch.mean((y - y_pred) ** 2)\n",
        "  optimizer.zero_grad() \n",
        "  error.backward() \n",
        "  optimizer.step()\n",
        "print(a)\n"
      ],
      "metadata": {
        "id": "OrOwGhN9g4Ti",
        "outputId": "240b8cd7-7e98-46ad-cc8e-3d216e8bf274",
        "colab": {
          "base_uri": "https://localhost:8080/"
        }
      },
      "execution_count": 23,
      "outputs": [
        {
          "output_type": "stream",
          "name": "stdout",
          "text": [
            "tensor([0.0512], requires_grad=True)\n"
          ]
        }
      ]
    },
    {
      "cell_type": "code",
      "source": [],
      "metadata": {
        "id": "hzcE40i4g4WY"
      },
      "execution_count": null,
      "outputs": []
    },
    {
      "cell_type": "code",
      "source": [],
      "metadata": {
        "id": "rVBuRcvTg4aL"
      },
      "execution_count": null,
      "outputs": []
    },
    {
      "cell_type": "code",
      "source": [],
      "metadata": {
        "id": "VlXYFm63g4l6"
      },
      "execution_count": null,
      "outputs": []
    },
    {
      "cell_type": "code",
      "source": [],
      "metadata": {
        "id": "pD4IZf2IelZJ"
      },
      "execution_count": null,
      "outputs": []
    }
  ],
  "metadata": {
    "kernelspec": {
      "display_name": "Python 3",
      "language": "python",
      "name": "python3"
    },
    "language_info": {
      "codemirror_mode": {
        "name": "ipython",
        "version": 3
      },
      "file_extension": ".py",
      "mimetype": "text/x-python",
      "name": "python",
      "nbconvert_exporter": "python",
      "pygments_lexer": "ipython3",
      "version": "3.6.8"
    },
    "colab": {
      "provenance": [],
      "include_colab_link": true
    }
  },
  "nbformat": 4,
  "nbformat_minor": 0
}