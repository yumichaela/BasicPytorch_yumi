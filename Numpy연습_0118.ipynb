{
  "nbformat": 4,
  "nbformat_minor": 0,
  "metadata": {
    "colab": {
      "provenance": [],
      "authorship_tag": "ABX9TyPQhuVtItCxI7KwBOBa06ZP",
      "include_colab_link": true
    },
    "kernelspec": {
      "name": "python3",
      "display_name": "Python 3"
    },
    "language_info": {
      "name": "python"
    }
  },
  "cells": [
    {
      "cell_type": "markdown",
      "metadata": {
        "id": "view-in-github",
        "colab_type": "text"
      },
      "source": [
        "<a href=\"https://colab.research.google.com/github/yumichaela/Study_BasicPytorch/blob/main/Numpy%EC%97%B0%EC%8A%B5_0118.ipynb\" target=\"_parent\"><img src=\"https://colab.research.google.com/assets/colab-badge.svg\" alt=\"Open In Colab\"/></a>"
      ]
    },
    {
      "cell_type": "code",
      "source": [
        "#2.3 Numpy"
      ],
      "metadata": {
        "id": "VehDRrMnuCQc"
      },
      "execution_count": null,
      "outputs": []
    },
    {
      "cell_type": "code",
      "source": [
        "#여러가지 배열\n",
        "import numpy as np\n",
        "a = np.array([1, 5, 0, -1])\n",
        "b = np.ones((2, 2, 2))\n",
        "c = np.zeros((2, 3))\n",
        "d = np.arange(10)\n",
        "e = np.linspace(0, 10, 5)\n",
        "f = np.random.randint(2, 10, 5)\n",
        "\n",
        "print(\"a:\", a)\n",
        "print(\"b:\", b)\n",
        "print(\"c:\", c)\n",
        "print(\"d:\", d)\n",
        "print(\"e:\", e)\n",
        "print(\"f:\", f)\n",
        "\n"
      ],
      "metadata": {
        "colab": {
          "base_uri": "https://localhost:8080/"
        },
        "id": "oXf6c1iqho5Y",
        "outputId": "ea53bf10-9d83-43b8-a247-8500824d67ea"
      },
      "execution_count": 2,
      "outputs": [
        {
          "output_type": "stream",
          "name": "stdout",
          "text": [
            "a: [ 1  5  0 -1]\n",
            "b: [[[1. 1.]\n",
            "  [1. 1.]]\n",
            "\n",
            " [[1. 1.]\n",
            "  [1. 1.]]]\n",
            "c: [[0. 0. 0.]\n",
            " [0. 0. 0.]]\n",
            "d: [0 1 2 3 4 5 6 7 8 9]\n",
            "e: [ 0.   2.5  5.   7.5 10. ]\n",
            "f: [7 5 2 7 4]\n"
          ]
        }
      ]
    },
    {
      "cell_type": "code",
      "source": [
        "c.astype('int')"
      ],
      "metadata": {
        "colab": {
          "base_uri": "https://localhost:8080/"
        },
        "id": "9IA4eaxah-Em",
        "outputId": "51d4f4cc-ab8b-4eac-8be7-e4de0d7e924b"
      },
      "execution_count": 4,
      "outputs": [
        {
          "output_type": "execute_result",
          "data": {
            "text/plain": [
              "array([[0, 0, 0],\n",
              "       [0, 0, 0]])"
            ]
          },
          "metadata": {},
          "execution_count": 4
        }
      ]
    },
    {
      "cell_type": "code",
      "source": [],
      "metadata": {
        "id": "xnCk5X9uiK9S"
      },
      "execution_count": null,
      "outputs": []
    },
    {
      "cell_type": "code",
      "source": [
        "#조건문을 이용한 인덱스 검색\n",
        "import numpy as np\n",
        "mu = 0\n",
        "sigma = 1\n",
        "arr = np.random.normal(mu, sigma, (5,3))\n",
        "arr"
      ],
      "metadata": {
        "colab": {
          "base_uri": "https://localhost:8080/"
        },
        "id": "z5nXQImGt8yB",
        "outputId": "378de59f-3a04-4c07-d87e-2841fced76e9"
      },
      "execution_count": 2,
      "outputs": [
        {
          "output_type": "execute_result",
          "data": {
            "text/plain": [
              "array([[-1.78674195, -0.21811968, -0.36913732],\n",
              "       [-1.28060287, -1.68028562, -0.48631135],\n",
              "       [-1.43119356,  0.10264446, -1.44551483],\n",
              "       [-1.22738117,  1.23378639,  0.24937032],\n",
              "       [-0.33148999, -0.91723811, -1.66906078]])"
            ]
          },
          "metadata": {},
          "execution_count": 2
        }
      ]
    },
    {
      "cell_type": "code",
      "source": [
        "np.where(abs(arr) > sigma, \"out\", \"in\")"
      ],
      "metadata": {
        "colab": {
          "base_uri": "https://localhost:8080/"
        },
        "id": "7UsF4hOludug",
        "outputId": "320b4bdc-4401-42b8-85f9-16f9f34ba529"
      },
      "execution_count": 3,
      "outputs": [
        {
          "output_type": "execute_result",
          "data": {
            "text/plain": [
              "array([['out', 'in', 'in'],\n",
              "       ['out', 'out', 'in'],\n",
              "       ['out', 'in', 'out'],\n",
              "       ['out', 'out', 'in'],\n",
              "       ['in', 'in', 'out']], dtype='<U3')"
            ]
          },
          "metadata": {},
          "execution_count": 3
        }
      ]
    },
    {
      "cell_type": "code",
      "source": [
        "#배열의 기본 연산\n",
        "a = np.array([[1,3],[0,-1]])\n",
        "b = np.random.randint(0, 10, 4).reshape(2,2)\n",
        "a + b"
      ],
      "metadata": {
        "colab": {
          "base_uri": "https://localhost:8080/"
        },
        "id": "9jMcga8yvAfZ",
        "outputId": "dbc128c3-3e9f-4e61-fcf6-ed979026c833"
      },
      "execution_count": 6,
      "outputs": [
        {
          "output_type": "execute_result",
          "data": {
            "text/plain": [
              "array([[ 7, 12],\n",
              "       [ 4,  8]])"
            ]
          },
          "metadata": {},
          "execution_count": 6
        }
      ]
    },
    {
      "cell_type": "code",
      "source": [
        "#2.4.5 try & except 문(p.52)\n",
        "\n",
        "x = [1,2,3,\"s\",4,5]\n",
        "for i in x:\n",
        "  try:              #try 내에서 오류가 생기면 except문으로 넘겨주고, 오류가 없으면 그대로 실행함\n",
        "    y = i + 1\n",
        "    print(y)\n",
        "  except:\n",
        "    pass   #오류가 넘어와도 그냥 진행하겠다!\n",
        "\n",
        "#데이터가 많으면 오류를 전부 수정하는데 오래 걸림 > 소수의 오류로 인해 알고리즘이 멈추는 것을 방지해줌"
      ],
      "metadata": {
        "colab": {
          "base_uri": "https://localhost:8080/"
        },
        "id": "Qd8fU3lh_xTu",
        "outputId": "34029dbb-5852-494b-bca4-df90e7a270f1"
      },
      "execution_count": 31,
      "outputs": [
        {
          "output_type": "stream",
          "name": "stdout",
          "text": [
            "2\n",
            "3\n",
            "4\n",
            "5\n",
            "6\n"
          ]
        }
      ]
    },
    {
      "cell_type": "code",
      "source": [
        "#2.5 함수와 모듈"
      ],
      "metadata": {
        "id": "pt8zsejevZLZ"
      },
      "execution_count": null,
      "outputs": []
    },
    {
      "cell_type": "code",
      "source": [
        "#함수\n",
        "import numpy as np\n",
        "\n",
        "def sincos(x):\n",
        "  return np.sin(x) + np.cos(x)\n",
        "\n",
        "sincos([1,2])"
      ],
      "metadata": {
        "colab": {
          "base_uri": "https://localhost:8080/"
        },
        "id": "XtajtTuVwE3z",
        "outputId": "c9c79af3-931b-44d0-ab03-868b029065ca"
      },
      "execution_count": 10,
      "outputs": [
        {
          "output_type": "execute_result",
          "data": {
            "text/plain": [
              "array([1.38177329, 0.49315059])"
            ]
          },
          "metadata": {},
          "execution_count": 10
        }
      ]
    },
    {
      "cell_type": "code",
      "source": [
        "#2.6 클래스"
      ],
      "metadata": {
        "id": "pJG7aoGb-oyc"
      },
      "execution_count": null,
      "outputs": []
    },
    {
      "cell_type": "code",
      "source": [
        "import numpy as np\n",
        "\n",
        "class DataPreprocessing:\n",
        "  def __int__(self, data, target): #클래스 내부에 외부 변수를 불러올 때 __int__ 함수 사용, 괄호 안에 self 넣어주고, 추가적으로 원하는 변수 나열\n",
        "    self.data = data\n",
        "    slef.target = target\n",
        "    self.num_instances = self.data.shape[0] # 0 or O ?\n",
        "    self.num_features = self.date.shape[1] \n",
        "  def minimax(self): #클래스 내부의 함수에는 self를 반드시 기입한다\n",
        "    for i in range(self.num_features): #변수에도 self를 붙여 선언할 수 있으며 > 클래스 내부의 함수들에서 별도 선언 없이 사용 가능 \n",
        "      col = self.data[:,i]\n",
        "      self.data[:,i] = (self.data[:,i]-np.min(col))/(np.mac(col)-np.min(col)) #??? 기존 값이 스케일링 된 값으로 대체되어 self가 열 기준으로 계산된 0 이상 1이하의 값을 가진 데이터로 변환됨\n",
        "    return self\n",
        "  def normarlization(self):\n",
        "    for i in range(self.num_features):\n",
        "      col = self.data[:,i]\n",
        "      mu,sigma = np.mean(col), np.std(col)\n",
        "      self.data[:,i] = (self.data[:,i]-mu)/sigma\n",
        "    return self"
      ],
      "metadata": {
        "id": "AJokubpNwqKW"
      },
      "execution_count": 16,
      "outputs": []
    },
    {
      "cell_type": "code",
      "source": [
        "def scaler(self, scaling=None):\n",
        "  if scaling == 'minimax':\n",
        "    self.minimax()\n",
        "  elif scaling == 'standard':\n",
        "    self.normalizaion()\n",
        "  else:\n",
        "    pass\n",
        "  return self.data"
      ],
      "metadata": {
        "id": "us9PFK0By6Wr"
      },
      "execution_count": 17,
      "outputs": []
    },
    {
      "cell_type": "code",
      "source": [
        "#클래스 불러오기\n",
        "data = np.random.normal(0,10, (5,5))\n",
        "target = np.random.normal(0,1, 5)\n",
        "print(data)\n",
        "data_processor = DataPreprocessing(data,target) #클래스명, 필요한 변수 넣어주고, 변수명 선언한다\n",
        "data = data_processor.scaler('minimax') #클래스의 함수or변수를 사용하고 싶을 때? data_processor.함수명 // Scaler 함수는 scaling이라는 변수를 받고, 기본 값으로 None이 들어가 있음,\n",
        "print(data)\n"
      ],
      "metadata": {
        "id": "EtM870u93w7B"
      },
      "execution_count": null,
      "outputs": []
    },
    {
      "cell_type": "code",
      "source": [
        "#클래스의 상속\n",
        "class DataPipeline(DataPreprocessing): \n",
        "  def__int__(self, data):\n",
        "    self.data = data\n",
        "    self.num_features = self.data.shape[1]\n",
        "pipe = DataPipeline(data) #(스케일링에 필요한) 변수를 가지고 있는 클래스를 선언\n",
        "data = pipe.scaler('minimax') #DataPreprocessing 내에 있는 scaler 함수명 그대로 사용"
      ],
      "metadata": {
        "id": "96pTMlDO4UfB"
      },
      "execution_count": null,
      "outputs": []
    },
    {
      "cell_type": "code",
      "source": [
        "#2.7 그래프 그리기"
      ],
      "metadata": {
        "id": "xMzFH9bR6qvf"
      },
      "execution_count": null,
      "outputs": []
    },
    {
      "cell_type": "code",
      "source": [
        "import numpy as np\n",
        "from matplotlib import pyplot as plt\n",
        "\n",
        "epoch = np.arange(1,100) #arange함수:실수 단위도 표현 가능한 range 함수\n",
        "train_loss = 1.5/(epoch) #예시\n",
        "val_loss = .3+1/(epoch) #예시"
      ],
      "metadata": {
        "id": "msJp7BYa7rg6"
      },
      "execution_count": 23,
      "outputs": []
    },
    {
      "cell_type": "code",
      "source": [
        "plt.figure(figsize = (10,5) #그래프의 틀을 담당\n",
        "plt.plot(train_loss),'r-*') #(리스트or넘파이 배열을)2차원 그래프로 표현해줌, (예시처럼)x변수 없으면, 자동으로 0부터 정수 들어감, r-:빨간선, *:별로 표시\n",
        "plt.plot(val_loss, 'b-*')\n",
        "plt.legend(['train','validation'] #범례를 나타내는 함수, 함수가 그려지는 순서대로 할당됨\n",
        "plt.title(\"MNIST\")\n",
        "plt.xlabel(\"epoch\")\n",
        "plt.ylabel(\"loss\")\n",
        "plt.show()\n",
        "\n",
        "#다중 그래프 그리기(p.60 참고)\n"
      ],
      "metadata": {
        "colab": {
          "base_uri": "https://localhost:8080/",
          "height": 137
        },
        "id": "OQ5qy4nq8M3S",
        "outputId": "abbaf98b-e045-448c-fd34-71129eecbced"
      },
      "execution_count": 27,
      "outputs": [
        {
          "output_type": "error",
          "ename": "SyntaxError",
          "evalue": "ignored",
          "traceback": [
            "\u001b[0;36m  File \u001b[0;32m\"<ipython-input-27-5ea100f32d3b>\"\u001b[0;36m, line \u001b[0;32m2\u001b[0m\n\u001b[0;31m    plt.plot(train_loss),'r-*') #(리스트or넘파이 배열을)2차원 그래프로 표현해줌, (예시처럼)x변수 없으면, 자동으로 0부터 정수 들어감, r-:빨간선, *:별로 표시\u001b[0m\n\u001b[0m    ^\u001b[0m\n\u001b[0;31mSyntaxError\u001b[0m\u001b[0;31m:\u001b[0m invalid syntax\n"
          ]
        }
      ]
    },
    {
      "cell_type": "code",
      "source": [
        "#2.8 폴더 및 파일 관리"
      ],
      "metadata": {
        "id": "8A3-CKGx9lp0"
      },
      "execution_count": null,
      "outputs": []
    },
    {
      "cell_type": "code",
      "source": [
        "#폴더 생성\n",
        "import os\n",
        "\n",
        "def newfolder(directory):\n",
        "  try:\n",
        "    if not os.path.exists(directory):\n",
        "      os.makedirs(directory)\n",
        "  except OSError:\n",
        "      print('Error')\n",
        "\n",
        "parent_folder = './new' #./:현재 디렉토리, so 현재 디렉터리에서 new라는 폴더를 생성한다는 뜻\n",
        "newfolder(parent_folder)"
      ],
      "metadata": {
        "id": "nG6cJYoU-rvf"
      },
      "execution_count": 33,
      "outputs": []
    },
    {
      "cell_type": "code",
      "source": [
        "#경로 불러오기\n",
        "import glob  #glob()함수:필요한 경로를 리스트에 담을 수 있음, \n",
        "path = glob.glob('./data/*') #(현재 디렉터리에서) data폴더 안에 모든 폴더 and 파일에 관한 경로를 불러옴 // Q:data 폴더에 png확장자만 불러오려면? A:glob.glob('./data/*.png)\n",
        "print(path)"
      ],
      "metadata": {
        "id": "snqhhATk_E0I"
      },
      "execution_count": null,
      "outputs": []
    },
    {
      "cell_type": "code",
      "source": [
        "#파일 불러오기 및 저장하기(p.63)"
      ],
      "metadata": {
        "id": "ClNmZ090BGhw"
      },
      "execution_count": null,
      "outputs": []
    },
    {
      "cell_type": "code",
      "source": [
        "#2.9 터미널에서 파이썬 실행하기"
      ],
      "metadata": {
        "id": "s3i2anm3B1Ha"
      },
      "execution_count": null,
      "outputs": []
    },
    {
      "cell_type": "code",
      "source": [
        "#3.3 데이터 세트 분할"
      ],
      "metadata": {
        "id": "NvplCXnEGIMk"
      },
      "execution_count": null,
      "outputs": []
    },
    {
      "cell_type": "code",
      "source": [
        "import numpy as np\n",
        "from sklearn.model_selection import train_test_split #(skleran라이브러리의 train~split:원하는 분할 비율로 학습 & 평가 데이터로 나눌 수 있음)\n",
        "\n",
        "X,y = np.arange(1000).reshape((100,10)),np.arange(100)\n",
        "X_train, X_test, y_train, y_test = train_test_split(X,y,test_size=0.3, random_state=0) #test_size=0.3 > 평가 데이터가 30%, 학습 데이터가 70% "
      ],
      "metadata": {
        "id": "UGK2ZCLmGKv3"
      },
      "execution_count": 36,
      "outputs": []
    },
    {
      "cell_type": "code",
      "source": [],
      "metadata": {
        "id": "8W_MJKgMHNbA"
      },
      "execution_count": null,
      "outputs": []
    },
    {
      "cell_type": "code",
      "source": [],
      "metadata": {
        "id": "3F_NaAAMGr8h"
      },
      "execution_count": null,
      "outputs": []
    }
  ]
}